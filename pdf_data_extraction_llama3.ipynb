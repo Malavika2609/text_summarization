{
  "nbformat": 4,
  "nbformat_minor": 0,
  "metadata": {
    "colab": {
      "provenance": [],
      "authorship_tag": "ABX9TyOTrSpLX46Lzgypl+p8N3F4",
      "include_colab_link": true
    },
    "kernelspec": {
      "name": "python3",
      "display_name": "Python 3"
    },
    "language_info": {
      "name": "python"
    }
  },
  "cells": [
    {
      "cell_type": "markdown",
      "metadata": {
        "id": "view-in-github",
        "colab_type": "text"
      },
      "source": [
        "<a href=\"https://colab.research.google.com/github/Malavika2609/text_summarization/blob/main/pdf_data_extraction_llama3.ipynb\" target=\"_parent\"><img src=\"https://colab.research.google.com/assets/colab-badge.svg\" alt=\"Open In Colab\"/></a>"
      ]
    },
    {
      "cell_type": "code",
      "execution_count": 73,
      "metadata": {
        "colab": {
          "base_uri": "https://localhost:8080/"
        },
        "id": "CtvhoC6ke3Cg",
        "outputId": "c1f703f7-25db-4627-db0d-03e5c8e407ce"
      },
      "outputs": [
        {
          "output_type": "stream",
          "name": "stdout",
          "text": [
            "0.0.1dev2\n",
            "<module 'fitz' from '/usr/local/lib/python3.11/dist-packages/fitz/__init__.py'>\n",
            "Answer: Fraud is a false representation or concealment of a material fact or any other illegal act committed intentionally to cause wrongful gains to self or others and/or wrongful loss to others.\n",
            "Page: Page 2\n",
            "Section: IV. DEFINITION OF FRAUD\n",
            "Paragraph: 12\n"
          ]
        }
      ],
      "source": [
        "# using llama3-8b-8192\n",
        "import pymupdf\n",
        "import fitz\n",
        "print(fitz.__version__)\n",
        "import sys\n",
        "print(sys.modules.get(\"fitz\"))  # Should show 'pymupdf'\n",
        "\n",
        "import groq\n",
        "import re\n",
        "\n",
        "from google.colab import userdata\n",
        "key=userdata.get('GROQ_API_KEY')\n",
        "\n",
        "# Initialize Groq client\n",
        "client = groq.Client(api_key=key)\n",
        "\n",
        "# Function to extract text with page, section, and paragraph metadata\n",
        "def extract_text_with_metadata(pdf_path):\n",
        "    doc = pymupdf.open(pdf_path)\n",
        "    text_data = []\n",
        "    current_section = \"Unknown Section\"  # Default section if not found\n",
        "\n",
        "    for page_num in range(len(doc)):\n",
        "        page = doc[page_num]\n",
        "        blocks = page.get_text(\"blocks\")  # Extract text blocks\n",
        "\n",
        "        for i, block in enumerate(blocks):\n",
        "            text = block[4].strip()\n",
        "\n",
        "            # Detect section headers (heuristic: all caps or bold text)\n",
        "            if text.isupper() or len(text) < 40:\n",
        "                current_section = text  # Update current section\n",
        "                continue  # Skip adding this as a paragraph\n",
        "\n",
        "            text_data.append({\n",
        "                \"page\": page_num + 1,\n",
        "                \"section\": current_section,\n",
        "                \"paragraph\": i + 1,\n",
        "                \"text\": text\n",
        "            })\n",
        "\n",
        "    return text_data\n",
        "\n",
        "# Query Llama 3 to find the answer\n",
        "def get_answer_from_llama3(text_data, question):\n",
        "    context = \"\\n\\n\".join([f\"(Page {item['page']}, Section: {item['section']}, Para {item['paragraph']}): {item['text']}\" for item in text_data])\n",
        "\n",
        "    prompt = f\"\"\"\n",
        "    Given the following extracted text from a legal document, answer the question:\n",
        "\n",
        "    Context:\n",
        "    {context}\n",
        "\n",
        "    Question: {question}\n",
        "\n",
        "    Provide the exact answer along with the Page Number, Section, and Paragraph Number in the following format:\n",
        "    \"Answer: <Extracted Answer>\"\n",
        "    \"Page: <Page Number>\"\n",
        "    \"Section: <Section Name>\"\n",
        "    \"Paragraph: <Paragraph Number>\"\n",
        "    \"\"\"\n",
        "\n",
        "    response = client.chat.completions.create(\n",
        "        model=\"llama3-8b-8192\",\n",
        "        messages=[{\"role\": \"user\", \"content\": prompt}],\n",
        "        temperature=0\n",
        "    )\n",
        "\n",
        "    return response.choices[0].message.content\n",
        "\n",
        "# Example Usage\n",
        "pdf_path = \"/content/sample_data/ANTI FRAUD POLICY 05_11_2011.pdf\"\n",
        "question = \"What is the definition of fraud?\"\n",
        "text_data = extract_text_with_metadata(pdf_path)\n",
        "answer = get_answer_from_llama3(text_data, question)\n",
        "print(answer)\n"
      ]
    },
    {
      "cell_type": "code",
      "source": [
        "#using llama-3.3-70b-versatile\n",
        "import pymupdf\n",
        "import fitz  # PyMuPDF\n",
        "import groq\n",
        "import re\n",
        "\n",
        "from google.colab import userdata\n",
        "key=userdata.get('GROQ_API_KEY')\n",
        "\n",
        "# Initialize Groq client\n",
        "client = groq.Client(api_key=key)\n",
        "\n",
        "# Function to extract text with page, section, and paragraph metadata\n",
        "def extract_text_with_metadata(pdf_path):\n",
        "    doc = pymupdf.open(pdf_path)\n",
        "    text_data = []\n",
        "    current_section = \"Unknown Section\"  # Default section if not found\n",
        "    section_paragraph_counter = {}  # Track paragraph numbers within sections\n",
        "\n",
        "    for page_num in range(len(doc)):\n",
        "        page = doc[page_num]\n",
        "\n",
        "        blocks = page.get_text(\"blocks\")  # Extract text blocks\n",
        "\n",
        "\n",
        "        for i, block in enumerate(blocks):\n",
        "\n",
        "            text = block[4].strip()\n",
        "\n",
        "\n",
        "            # Detect section headers (heuristic: all caps or bold text)\n",
        "            if text.isupper() or len(text) < 40:\n",
        "                current_section = text  # Update current section\n",
        "                section_paragraph_counter[current_section] = 0  # Reset counter\n",
        "                continue  # Skip adding this as a paragraph\n",
        "\n",
        "            # Increment paragraph count within the section\n",
        "            section_paragraph_counter[current_section] += 1\n",
        "\n",
        "            text_data.append({\n",
        "                \"page\": page_num +1 ,  # Use PyMuPDF's internal page numbering\n",
        "                \"section\": current_section,\n",
        "                \"section_paragraph\": section_paragraph_counter[current_section],\n",
        "                \"text\": text\n",
        "\n",
        "            })\n",
        "            #print('ettxt',text_data)\n",
        "        #print('pg',page.number)\n",
        "\n",
        "    return text_data\n",
        "\n",
        "# Query Llama 3 to find the answer and its metadata\n",
        "def get_answer_from_llama3(text_data, question):\n",
        "    context = \"\\n\\n\".join([\n",
        "        f\"(Page {item['page']}, Section: {item['section']}, Section Paragraph {item['section_paragraph']}): {item['text']}\"\n",
        "        for item in text_data\n",
        "    ])\n",
        "\n",
        "    prompt = f\"\"\"\n",
        "    Given the following extracted text from a legal document, answer the question:\n",
        "\n",
        "    Context:\n",
        "    {context}\n",
        "\n",
        "    Question: {question}\n",
        "\n",
        "    Provide the exact answer along with the page , Section, and Paragraph Number in the following format:\n",
        "    \"Answer: <Extracted Answer>\"\n",
        "    \"Page: <page>\"\n",
        "    \"Section: <Section Name>\"\n",
        "    \"Paragraph: <Paragraph Number>\"\n",
        "    \"\"\"\n",
        "\n",
        "    response = client.chat.completions.create(\n",
        "        #model=\"llama3-8b-8192\",\n",
        "        model=\"llama-3.3-70b-versatile\",\n",
        "        messages=[{\"role\": \"user\", \"content\": prompt}],\n",
        "        temperature=0\n",
        "    )\n",
        "\n",
        "    return response.choices[0].message.content\n",
        "\n",
        "# Example Usage\n",
        "pdf_path = \"/content/sample_data/ANTI FRAUD POLICY 05_11_2011.pdf\"\n",
        "question = \"Objectives of policy?\"\n",
        "text_data = extract_text_with_metadata(pdf_path)\n",
        "answer = get_answer_from_llama3(text_data, question)\n",
        "print(answer)\n"
      ],
      "metadata": {
        "colab": {
          "base_uri": "https://localhost:8080/"
        },
        "id": "3y5THolqrVZx",
        "outputId": "6787a83a-3799-4962-c54a-2447ab20a850"
      },
      "execution_count": 89,
      "outputs": [
        {
          "output_type": "stream",
          "name": "stdout",
          "text": [
            "Answer: The policy has been framed to enforce controls so as to provide a system of detection and prevention of fraud, reporting of any fraud or suspected fraud and appropriate dealing of issues relating to fraud. \n",
            "The policy aims to ensure that:- \n",
            "(i) Management is aware of its responsibility for the detection and prevention of fraud, misappropriations, and other inappropriate conduct. \n",
            "(ii) Any fraud that is detected or suspected must be reported immediately to the Nodal Officer designated for the purpose of co-ordination of preliminary investigation. \n",
            "(iii) To conduct investigations into fraudulent activities.\n",
            "\n",
            "Page: 2\n",
            "Section: III. OBJECTIVES OF POLICY\n",
            "Paragraph: 1, 2\n"
          ]
        }
      ]
    },
    {
      "cell_type": "code",
      "source": [
        "print('Question',question)\n",
        "print('Answer',answer)"
      ],
      "metadata": {
        "colab": {
          "base_uri": "https://localhost:8080/"
        },
        "id": "CEd7O4oe7Itf",
        "outputId": "3a1b87e7-30e8-4abb-9775-b7ef1ac292c9"
      },
      "execution_count": 90,
      "outputs": [
        {
          "output_type": "stream",
          "name": "stdout",
          "text": [
            "Question Objectives of policy?\n",
            "Answer Answer: The policy has been framed to enforce controls so as to provide a system of detection and prevention of fraud, reporting of any fraud or suspected fraud and appropriate dealing of issues relating to fraud. \n",
            "The policy aims to ensure that:- \n",
            "(i) Management is aware of its responsibility for the detection and prevention of fraud, misappropriations, and other inappropriate conduct. \n",
            "(ii) Any fraud that is detected or suspected must be reported immediately to the Nodal Officer designated for the purpose of co-ordination of preliminary investigation. \n",
            "(iii) To conduct investigations into fraudulent activities.\n",
            "\n",
            "Page: 2\n",
            "Section: III. OBJECTIVES OF POLICY\n",
            "Paragraph: 1, 2\n"
          ]
        }
      ]
    },
    {
      "cell_type": "code",
      "source": [
        "!pip uninstall fitz pymupdf -y\n",
        "!pip install pymupdf\n",
        "!pip install fitz  # PyMuPDF\n",
        "!pip install groq\n"
      ],
      "metadata": {
        "colab": {
          "base_uri": "https://localhost:8080/"
        },
        "id": "yaq67K3YoyWb",
        "outputId": "5b6881a8-4cf8-4ff4-f3cb-cc7de0eea142"
      },
      "execution_count": 19,
      "outputs": [
        {
          "output_type": "stream",
          "name": "stdout",
          "text": [
            "Found existing installation: fitz 0.0.1.dev2\n",
            "Uninstalling fitz-0.0.1.dev2:\n",
            "  Successfully uninstalled fitz-0.0.1.dev2\n",
            "Found existing installation: PyMuPDF 1.25.3\n",
            "Uninstalling PyMuPDF-1.25.3:\n",
            "  Successfully uninstalled PyMuPDF-1.25.3\n",
            "Collecting pymupdf\n",
            "  Using cached pymupdf-1.25.3-cp39-abi3-manylinux2014_x86_64.manylinux_2_17_x86_64.whl.metadata (3.4 kB)\n",
            "Using cached pymupdf-1.25.3-cp39-abi3-manylinux2014_x86_64.manylinux_2_17_x86_64.whl (20.0 MB)\n",
            "Installing collected packages: pymupdf\n",
            "Successfully installed pymupdf-1.25.3\n"
          ]
        }
      ]
    }
  ]
}